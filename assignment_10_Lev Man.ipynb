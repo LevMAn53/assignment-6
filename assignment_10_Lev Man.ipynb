{
 "cells": [
  {
   "cell_type": "code",
   "execution_count": 7,
   "id": "63485663-2351-4f7c-a1b4-1bd56db43784",
   "metadata": {},
   "outputs": [
    {
     "name": "stdout",
     "output_type": "stream",
     "text": [
      "Requirement already satisfied: pandas in /opt/anaconda3/lib/python3.12/site-packages (2.2.2)\n",
      "Requirement already satisfied: numpy>=1.26.0 in /opt/anaconda3/lib/python3.12/site-packages (from pandas) (1.26.4)\n",
      "Requirement already satisfied: python-dateutil>=2.8.2 in /opt/anaconda3/lib/python3.12/site-packages (from pandas) (2.9.0.post0)\n",
      "Requirement already satisfied: pytz>=2020.1 in /opt/anaconda3/lib/python3.12/site-packages (from pandas) (2024.1)\n",
      "Requirement already satisfied: tzdata>=2022.7 in /opt/anaconda3/lib/python3.12/site-packages (from pandas) (2023.3)\n",
      "Requirement already satisfied: six>=1.5 in /opt/anaconda3/lib/python3.12/site-packages (from python-dateutil>=2.8.2->pandas) (1.16.0)\n",
      "Requirement already satisfied: xlrd in /opt/anaconda3/lib/python3.12/site-packages (2.0.1)\n",
      "Requirement already satisfied: scikit-learn in /opt/anaconda3/lib/python3.12/site-packages (1.4.2)\n",
      "Requirement already satisfied: numpy>=1.19.5 in /opt/anaconda3/lib/python3.12/site-packages (from scikit-learn) (1.26.4)\n",
      "Requirement already satisfied: scipy>=1.6.0 in /opt/anaconda3/lib/python3.12/site-packages (from scikit-learn) (1.13.1)\n",
      "Requirement already satisfied: joblib>=1.2.0 in /opt/anaconda3/lib/python3.12/site-packages (from scikit-learn) (1.4.2)\n",
      "Requirement already satisfied: threadpoolctl>=2.0.0 in /opt/anaconda3/lib/python3.12/site-packages (from scikit-learn) (2.2.0)\n"
     ]
    }
   ],
   "source": [
    "!pip install pandas\n",
    "!pip install xlrd"
   ]
  },
  {
   "cell_type": "code",
   "execution_count": 51,
   "id": "78913ead-3ea2-4fc2-9ff1-083290e44d79",
   "metadata": {},
   "outputs": [],
   "source": [
    "import pandas as pd\n",
    "import seaborn as sns\n",
    "import matplotlib.pyplot as plt\n",
    "\n",
    "df = pd.read_excel(\"/Users/levmanulak/Desktop/ПОДКАСТ/data.xls\")"
   ]
  },
  {
   "cell_type": "code",
   "execution_count": 15,
   "id": "9a4a40d5-1695-45e1-b042-fb062e251049",
   "metadata": {},
   "outputs": [
    {
     "data": {
      "text/html": [
       "<div>\n",
       "<style scoped>\n",
       "    .dataframe tbody tr th:only-of-type {\n",
       "        vertical-align: middle;\n",
       "    }\n",
       "\n",
       "    .dataframe tbody tr th {\n",
       "        vertical-align: top;\n",
       "    }\n",
       "\n",
       "    .dataframe thead th {\n",
       "        text-align: right;\n",
       "    }\n",
       "</style>\n",
       "<table border=\"1\" class=\"dataframe\">\n",
       "  <thead>\n",
       "    <tr style=\"text-align: right;\">\n",
       "      <th></th>\n",
       "      <th>sepal_length</th>\n",
       "      <th>sepal_width</th>\n",
       "      <th>petal_length</th>\n",
       "      <th>petal_width</th>\n",
       "    </tr>\n",
       "  </thead>\n",
       "  <tbody>\n",
       "    <tr>\n",
       "      <th>count</th>\n",
       "      <td>2415.000000</td>\n",
       "      <td>2415.000000</td>\n",
       "      <td>2415.000000</td>\n",
       "      <td>2415.000000</td>\n",
       "    </tr>\n",
       "    <tr>\n",
       "      <th>mean</th>\n",
       "      <td>6.470257</td>\n",
       "      <td>3.963540</td>\n",
       "      <td>4.616911</td>\n",
       "      <td>2.189752</td>\n",
       "    </tr>\n",
       "    <tr>\n",
       "      <th>std</th>\n",
       "      <td>2.140522</td>\n",
       "      <td>1.022686</td>\n",
       "      <td>1.987028</td>\n",
       "      <td>1.046936</td>\n",
       "    </tr>\n",
       "    <tr>\n",
       "      <th>min</th>\n",
       "      <td>-10.000000</td>\n",
       "      <td>0.000000</td>\n",
       "      <td>0.000000</td>\n",
       "      <td>0.000000</td>\n",
       "    </tr>\n",
       "    <tr>\n",
       "      <th>25%</th>\n",
       "      <td>5.950000</td>\n",
       "      <td>3.450000</td>\n",
       "      <td>2.780000</td>\n",
       "      <td>1.460000</td>\n",
       "    </tr>\n",
       "    <tr>\n",
       "      <th>50%</th>\n",
       "      <td>6.700000</td>\n",
       "      <td>4.000000</td>\n",
       "      <td>5.090000</td>\n",
       "      <td>2.240000</td>\n",
       "    </tr>\n",
       "    <tr>\n",
       "      <th>75%</th>\n",
       "      <td>7.490000</td>\n",
       "      <td>4.580000</td>\n",
       "      <td>6.150000</td>\n",
       "      <td>2.940000</td>\n",
       "    </tr>\n",
       "    <tr>\n",
       "      <th>max</th>\n",
       "      <td>10.490000</td>\n",
       "      <td>7.470000</td>\n",
       "      <td>9.040000</td>\n",
       "      <td>5.440000</td>\n",
       "    </tr>\n",
       "  </tbody>\n",
       "</table>\n",
       "</div>"
      ],
      "text/plain": [
       "       sepal_length  sepal_width  petal_length  petal_width\n",
       "count   2415.000000  2415.000000   2415.000000  2415.000000\n",
       "mean       6.470257     3.963540      4.616911     2.189752\n",
       "std        2.140522     1.022686      1.987028     1.046936\n",
       "min      -10.000000     0.000000      0.000000     0.000000\n",
       "25%        5.950000     3.450000      2.780000     1.460000\n",
       "50%        6.700000     4.000000      5.090000     2.240000\n",
       "75%        7.490000     4.580000      6.150000     2.940000\n",
       "max       10.490000     7.470000      9.040000     5.440000"
      ]
     },
     "execution_count": 15,
     "metadata": {},
     "output_type": "execute_result"
    }
   ],
   "source": [
    "#опис датасету\n",
    "\n",
    "df.describe()"
   ]
  },
  {
   "cell_type": "code",
   "execution_count": 45,
   "id": "abe2db3d-d9c4-4b5b-99e1-a1b1a87c3613",
   "metadata": {},
   "outputs": [
    {
     "data": {
      "text/html": [
       "<div>\n",
       "<style scoped>\n",
       "    .dataframe tbody tr th:only-of-type {\n",
       "        vertical-align: middle;\n",
       "    }\n",
       "\n",
       "    .dataframe tbody tr th {\n",
       "        vertical-align: top;\n",
       "    }\n",
       "\n",
       "    .dataframe thead th {\n",
       "        text-align: right;\n",
       "    }\n",
       "</style>\n",
       "<table border=\"1\" class=\"dataframe\">\n",
       "  <thead>\n",
       "    <tr style=\"text-align: right;\">\n",
       "      <th></th>\n",
       "      <th>sepal_length</th>\n",
       "      <th>sepal_width</th>\n",
       "      <th>petal_length</th>\n",
       "      <th>petal_width</th>\n",
       "    </tr>\n",
       "  </thead>\n",
       "  <tbody>\n",
       "    <tr>\n",
       "      <th>sepal_length</th>\n",
       "      <td>1.000000</td>\n",
       "      <td>0.435701</td>\n",
       "      <td>0.540740</td>\n",
       "      <td>0.510917</td>\n",
       "    </tr>\n",
       "    <tr>\n",
       "      <th>sepal_width</th>\n",
       "      <td>0.435701</td>\n",
       "      <td>1.000000</td>\n",
       "      <td>0.241140</td>\n",
       "      <td>0.399530</td>\n",
       "    </tr>\n",
       "    <tr>\n",
       "      <th>petal_length</th>\n",
       "      <td>0.540740</td>\n",
       "      <td>0.241140</td>\n",
       "      <td>1.000000</td>\n",
       "      <td>0.837498</td>\n",
       "    </tr>\n",
       "    <tr>\n",
       "      <th>petal_width</th>\n",
       "      <td>0.510917</td>\n",
       "      <td>0.399530</td>\n",
       "      <td>0.837498</td>\n",
       "      <td>1.000000</td>\n",
       "    </tr>\n",
       "  </tbody>\n",
       "</table>\n",
       "</div>"
      ],
      "text/plain": [
       "              sepal_length  sepal_width  petal_length  petal_width\n",
       "sepal_length      1.000000     0.435701      0.540740     0.510917\n",
       "sepal_width       0.435701     1.000000      0.241140     0.399530\n",
       "petal_length      0.540740     0.241140      1.000000     0.837498\n",
       "petal_width       0.510917     0.399530      0.837498     1.000000"
      ]
     },
     "execution_count": 45,
     "metadata": {},
     "output_type": "execute_result"
    }
   ],
   "source": [
    "df_new = df.iloc[:, :4]\n",
    "\n",
    "df_new.corr()"
   ]
  },
  {
   "cell_type": "code",
   "execution_count": 55,
   "id": "ac383d04-1dda-4227-8211-fa0ed0244da1",
   "metadata": {},
   "outputs": [
    {
     "data": {
      "text/plain": [
       "<Axes: ylabel='Frequency'>"
      ]
     },
     "execution_count": 55,
     "metadata": {},
     "output_type": "execute_result"
    },
    {
     "data": {
      "image/png": "[encoded data removed]",
      "text/plain": [
       "<Figure size 640x480 with 1 Axes>"
      ]
     },
     "metadata": {},
     "output_type": "display_data"
    }
   ],
   "source": [
    "df[\"sepal_length\"].plot.hist(label = \"sepal_length\", bins = 400)\n",
    "\n",
    "#обрав цю візуалізацію, адже вона добре показує 1. середнгі значення і загальний тренд у довжині \n",
    "#2.хибні значення, які потрібно прибрати\n",
    "#якщо я правильно зрлзумів, то розподіл даних є нормальним, якщо діаграма схожа на капелюха чи дзвін за формою.\n",
    "#у цьому випвдку розподіл є нормальним. "
   ]
  },
  {
   "cell_type": "code",
   "execution_count": 57,
   "id": "6aa7e7fe-da4a-4fdc-848d-814e3d680c31",
   "metadata": {},
   "outputs": [
    {
     "data": {
      "text/plain": [
       "<Axes: ylabel='Frequency'>"
      ]
     },
     "execution_count": 57,
     "metadata": {},
     "output_type": "execute_result"
    },
    {
     "data": {
      "image/png": "[encoded data removed]",
      "text/plain": [
       "<Figure size 640x480 with 1 Axes>"
      ]
     },
     "metadata": {},
     "output_type": "display_data"
    }
   ],
   "source": [
    "df[\"sepal_width\"].plot.hist(label = \"sepal_width\", bins = 400)\n",
    "\n",
    "#обрав гістаграму, аби перевірити, чи розподіл є нормальним. а також бо це єдиний спосіб візуалізації, який знаю. \n",
    "#розподіл є нормальним"
   ]
  },
  {
   "cell_type": "code",
   "execution_count": 59,
   "id": "100b1195-231d-4150-bcce-04ab90daebd7",
   "metadata": {},
   "outputs": [
    {
     "data": {
      "text/plain": [
       "<Axes: ylabel='Frequency'>"
      ]
     },
     "execution_count": 59,
     "metadata": {},
     "output_type": "execute_result"
    },
    {
     "data": {
      "image/png": "[encoded data removed]",
      "text/plain": [
       "<Figure size 640x480 with 1 Axes>"
      ]
     },
     "metadata": {},
     "output_type": "display_data"
    }
   ],
   "source": [
    "df[\"petal_length\"].plot.hist(label = \"petal_length\", bins = 400)\n",
    "\n",
    "#у цьому випадку розподіл не є нормальним. він бімодальний. \n",
    "#аби зробити його нормальним, то можна розбити дані на тва сети і аналізувати кожен окремо. "
   ]
  },
  {
   "cell_type": "code",
   "execution_count": null,
   "id": "72a94b91-353b-4f6b-8ce1-1a2128fdee97",
   "metadata": {},
   "outputs": [],
   "source": []
  },
  {
   "cell_type": "code",
   "execution_count": 69,
   "id": "88d2f475-1637-464c-973e-3c52ae57d781",
   "metadata": {},
   "outputs": [
    {
     "data": {
      "text/plain": [
       "count    2415.000000\n",
       "mean        2.189752\n",
       "std         1.046936\n",
       "min         0.000000\n",
       "25%         1.460000\n",
       "50%         2.240000\n",
       "75%         2.940000\n",
       "max         5.440000\n",
       "Name: petal_width, dtype: float64"
      ]
     },
     "execution_count": 69,
     "metadata": {},
     "output_type": "execute_result"
    },
    {
     "data": {
      "image/png": "[encoded data removed]",
      "text/plain": [
       "<Figure size 640x480 with 1 Axes>"
      ]
     },
     "metadata": {},
     "output_type": "display_data"
    }
   ],
   "source": [
    "df[\"petal_width\"].plot.hist(label = \"petal_width\", bins = 400)\n",
    "# тут я погрався із к-сть bins, аби чітко побачити, чи є розподіл нормальним. тут видно, що є багато даних, які виходять за межі std, тому розподіл не є нормальнрим.аби його нормалізувати, нам слід \"обрізати\" частину даних.  \n",
    "\n",
    "df[\"petal_width\"].describe()"
   ]
  }
 ],
 "metadata": {
  "kernelspec": {
   "display_name": "Python 3 (ipykernel)",
   "language": "python",
   "name": "python3"
  },
  "language_info": {
   "codemirror_mode": {
    "name": "ipython",
    "version": 3
   },
   "file_extension": ".py",
   "mimetype": "text/x-python",
   "name": "python",
   "nbconvert_exporter": "python",
   "pygments_lexer": "ipython3",
   "version": "3.12.4"
  }
 },
 "nbformat": 4,
 "nbformat_minor": 5
}
